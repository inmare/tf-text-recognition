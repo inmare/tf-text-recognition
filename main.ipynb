{
 "cells": [
  {
   "cell_type": "code",
   "execution_count": 2,
   "metadata": {},
   "outputs": [],
   "source": [
    "%load_ext autoreload\n",
    "%autoreload 2\n",
    "from matplotlib import pyplot as plt\n",
    "import text_extract as text\n",
    "import json\n",
    "import os\n",
    "import re"
   ]
  },
  {
   "cell_type": "code",
   "execution_count": 13,
   "metadata": {},
   "outputs": [
    {
     "data": {
      "text/plain": [
       "(11, 20)"
      ]
     },
     "execution_count": 13,
     "metadata": {},
     "output_type": "execute_result"
    }
   ],
   "source": [
    "JSON_PATH = \"./settings.json\"\n",
    "\n",
    "with open(JSON_PATH) as f:\n",
    "    settings = json.load(f)\n",
    "\n",
    "file_settings = settings[\"file\"]\n",
    "file_names = text.data.get_file_names(file_settings)\n",
    "\n",
    "image_arr = []\n",
    "h_crop_point_arr = []\n",
    "v_crop_point_arr = []\n",
    "h_max_size = 0\n",
    "v_max_size = 0\n",
    "\n",
    "for name in file_names:\n",
    "    path = file_settings[\"path\"]\n",
    "    gray_img = text.data.read_image(path, name)\n",
    "\n",
    "    rotate_img = text.extract.set_textbox_horizontally(gray_img, settings)\n",
    "    textbox_img = text.extract.extract_textbox(rotate_img, settings)\n",
    "    enhanced_img = text.extract.enhance_textbox(textbox_img, settings)\n",
    "\n",
    "    char_crop_settings = settings[\"cropPoints\"]\n",
    "    [h_crop_points, h_max] = text.data.get_char_info(enhanced_img, char_crop_settings, mode=\"h\")\n",
    "    [v_crop_points, v_max] = text.data.get_char_info(enhanced_img, char_crop_settings, mode=\"v\")\n",
    "\n",
    "    image_arr.append(enhanced_img)\n",
    "\n",
    "    h_crop_point_arr.append(h_crop_points)\n",
    "    v_crop_point_arr.append(v_crop_points)\n",
    "\n",
    "    h_max_size = h_max if h_max > h_max_size else h_max_size\n",
    "    v_max_size = v_max if v_max > v_max_size else v_max_size"
   ]
  },
  {
   "cell_type": "code",
   "execution_count": null,
   "metadata": {},
   "outputs": [],
   "source": [
    "# 헷갈릴 글자 대상들\n",
    "# 0 Γ\n",
    "# 8 Δ\n",
    "# 5 Σ\n",
    "# $ -> § or 직접 폰트 수정\n",
    "#  (공백) Ч\n",
    "# ` §\n",
    "\n",
    "# 절대로 헷갈리지 않을 만한 문자들\n",
    "# 그리스어\n",
    "# Γ Δ Ξ Σ"
   ]
  }
 ],
 "metadata": {
  "kernelspec": {
   "display_name": "Python 3.10.4 ('.venv': venv)",
   "language": "python",
   "name": "python3"
  },
  "language_info": {
   "codemirror_mode": {
    "name": "ipython",
    "version": 3
   },
   "file_extension": ".py",
   "mimetype": "text/x-python",
   "name": "python",
   "nbconvert_exporter": "python",
   "pygments_lexer": "ipython3",
   "version": "3.10.4"
  },
  "orig_nbformat": 4,
  "vscode": {
   "interpreter": {
    "hash": "be683a387f613599acfa5f2904ea86e105e419b0abf42dde19e0d0b9b1440bd7"
   }
  }
 },
 "nbformat": 4,
 "nbformat_minor": 2
}
