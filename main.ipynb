{
 "cells": [
  {
   "cell_type": "markdown",
   "metadata": {},
   "source": [
    "# Tensorflow-text-recognition\n",
    "\n",
    "간단한 머신러닝을 사용해서 MNIST 사진들을 인식하기.  \n",
    "머신러닝 알고리즘 자체는 너무나 간단한 Sequential API이지만,  \n",
    "해당 알고리즘을 `opencv.js`와 `tensorflow.js`를 통해서 브라우저에 이식하는 것이 최종적인 목표이다."
   ]
  },
  {
   "cell_type": "markdown",
   "metadata": {},
   "source": [
    "# 라이브러리 로드"
   ]
  },
  {
   "cell_type": "code",
   "execution_count": null,
   "metadata": {},
   "outputs": [],
   "source": [
    "%load_ext autoreload\n",
    "%autoreload 2"
   ]
  },
  {
   "cell_type": "code",
   "execution_count": 1,
   "metadata": {},
   "outputs": [],
   "source": [
    "from matplotlib import pyplot as plt\n",
    "import text_extract as text\n",
    "import numpy as np\n",
    "import json\n",
    "import os\n",
    "import re"
   ]
  },
  {
   "cell_type": "markdown",
   "metadata": {},
   "source": [
    "# 파일 읽기 및 글자 분리\n",
    "\n",
    "이 코드에서 사용한 opencv함수들은 다음과 같다.  \n",
    "이때, opencv.js에 없는건 ~~취소선~~처리 되어있다.\n",
    "\n",
    "**process.py**\n",
    "* bitwise_not\n",
    "* threshold\n",
    "* dilate\n",
    "* erode\n",
    "* ~~fastNlMeansDenoising~~\n",
    "* addWeighted\n",
    "* getRotationMatrix2D\n",
    "* warpAffine\n",
    "\n",
    "**data.py**\n",
    "* imread\n",
    "* approxPolyDP\n",
    "* boundingRect\n",
    "* findContours\n",
    "* minAreaRect\n",
    "* ~~boxPoints~~\n",
    "\n",
    "과정에서 핵심적인 `fastNlMeansDenoising`함수가 opencv.js에서 사용이 불가능함에 따라,  \n",
    "다음과 같은 대안을 고려해 볼 수 있다.\n",
    "\n",
    "* `fastNlMeansDenoising`함수 알고리즘을 직접 구현하기: 함수 원리 자체가 간단하긴 한데 직접 구현하려면 시간도 오래걸리고 난이도도 생각보다 높을 것 같다.\n",
    "* 다른 방법으로 이미지의 노이즈를 제거하기: Smoothing계열 필터들을 사용해서 노이즈를 제거한 후 해당 결과를 이전 결과와 비교해 본다.\n",
    "\n",
    "알고리즘에 관해서 아무것도 모르는 나는 그냥 후자를 선택해서 하는게 현명할 것 같다."
   ]
  },
  {
   "cell_type": "code",
   "execution_count": 2,
   "metadata": {},
   "outputs": [],
   "source": [
    "JSON_PATH = \"./settings.json\"\n",
    "\n",
    "with open(JSON_PATH) as f:\n",
    "    settings = json.load(f)\n",
    "\n",
    "file_settings = settings[\"file\"]\n",
    "file_names = text.data.get_file_names(file_settings)\n",
    "\n",
    "image_array = []\n",
    "h_crop_array = []\n",
    "v_crop_array = []\n",
    "h_max_size = 0\n",
    "v_max_size = 0\n",
    "\n",
    "for name in file_names:\n",
    "    path = file_settings[\"path\"]\n",
    "    gray_img = text.data.read_image(path, name)\n",
    "\n",
    "    rotate_img = text.extract.set_textbox_horizontally(gray_img, settings)\n",
    "    textbox_img = text.extract.extract_textbox(rotate_img, settings)\n",
    "    enhanced_img = text.extract.enhance_textbox(textbox_img, settings)\n",
    "\n",
    "    char_crop_settings = settings[\"cropPoints\"]\n",
    "    [h_crop_points, h_max] = text.data.get_char_info(enhanced_img, char_crop_settings, mode=\"h\")\n",
    "    [v_crop_points, v_max] = text.data.get_char_info(enhanced_img, char_crop_settings, mode=\"v\")\n",
    "\n",
    "    image_array.append(enhanced_img)\n",
    "\n",
    "    h_crop_array.append(h_crop_points)\n",
    "    v_crop_array.append(v_crop_points)\n",
    "\n",
    "    h_max_size = h_max if h_max > h_max_size else h_max_size\n",
    "    v_max_size = v_max if v_max > v_max_size else v_max_size\n",
    "\n",
    "# plt.imshow(image_array[0][:200, :200])\n",
    "# plt.show()"
   ]
  },
  {
   "cell_type": "markdown",
   "metadata": {},
   "source": [
    "# 데이터 변환하기\n",
    "\n",
    "여러 이미지가 input으로 와도 적용이 가능하도록 모듈 수정하기  \n",
    "`Tensorflow.js`에서 어떻게 할지 제일 고민이 많이 되는 부분이다.  \n",
    "JS에는 numpy가 없기 때문에...  \n",
    "가능만 하다면 `Tensorflow.js`의 내장기능을 활용해야 할 것 같다."
   ]
  },
  {
   "cell_type": "code",
   "execution_count": 3,
   "metadata": {},
   "outputs": [],
   "source": [
    "# create empty data\n",
    "\n",
    "text_len = (len(v_crop_array[0]) - 1) * (len(h_crop_array[0]) - 1)\n",
    "char_array = np.zeros((text_len, v_max_size, h_max_size), dtype=image_array[0].dtype)\n",
    "\n",
    "char_idx = 0\n",
    "for v_idx in range(len(v_crop_array[0]) - 1):\n",
    "    for h_idx in range(len(h_crop_array[0]) - 1):\n",
    "        empty_img = np.zeros((v_max_size, h_max_size), dtype=image_array[0].dtype)\n",
    "        v_start = v_crop_array[0][v_idx]\n",
    "        h_start = h_crop_array[0][h_idx]\n",
    "        v_next = v_crop_array[0][v_idx + 1]\n",
    "        h_next = h_crop_array[0][h_idx + 1]\n",
    "        char_img = image_array[0][v_start:v_next, h_start:h_next]\n",
    "\n",
    "        empty_img[:char_img.shape[0], :char_img.shape[1]] = char_img\n",
    "        char_array[char_idx, :, :] = empty_img\n",
    "        char_idx += 1\n",
    "\n",
    "text_array = text.seed_random.make_random_text(1, text_len)\n",
    "\n",
    "# for i in range(20):\n",
    "#     plt.figure(figsize=(0.5, 0.5))\n",
    "#     plt.imshow(char_array[i, :, :])\n",
    "#     plt.show()"
   ]
  },
  {
   "cell_type": "markdown",
   "metadata": {},
   "source": [
    "# 머신러닝\n",
    "\n",
    "와! 텐서플로우! 와! MLP!  \n",
    "날먹이 이렇게 쉽습니다 여러분.  \n",
    "앞에서는 장대하게 데이터 추출한 다음에 정작 머신러닝 코드는 핸즈온 머신러닝 베껴쓰는 이게 진정한 용두사미 아닐까...?"
   ]
  },
  {
   "cell_type": "code",
   "execution_count": 9,
   "metadata": {},
   "outputs": [
    {
     "name": "stdout",
     "output_type": "stream",
     "text": [
      "Epoch 1/30\n",
      "1052/1052 [==============================] - 8s 7ms/step - loss: 4.1013 - accuracy: 0.2067 - val_loss: 3.3431 - val_accuracy: 0.4058\n",
      "Epoch 2/30\n",
      "1052/1052 [==============================] - 5s 5ms/step - loss: 2.1019 - accuracy: 0.7069 - val_loss: 1.0856 - val_accuracy: 0.8734\n",
      "Epoch 3/30\n",
      "1052/1052 [==============================] - 6s 6ms/step - loss: 0.7176 - accuracy: 0.9107 - val_loss: 0.5079 - val_accuracy: 0.9330\n",
      "Epoch 4/30\n",
      "1052/1052 [==============================] - 7s 7ms/step - loss: 0.3974 - accuracy: 0.9515 - val_loss: 0.3571 - val_accuracy: 0.9540\n",
      "Epoch 5/30\n",
      "1052/1052 [==============================] - 6s 5ms/step - loss: 0.2846 - accuracy: 0.9642 - val_loss: 0.3060 - val_accuracy: 0.9520\n",
      "Epoch 6/30\n",
      "1052/1052 [==============================] - 6s 5ms/step - loss: 0.2254 - accuracy: 0.9686 - val_loss: 0.2997 - val_accuracy: 0.9494\n",
      "Epoch 7/30\n",
      "1052/1052 [==============================] - 6s 6ms/step - loss: 0.1886 - accuracy: 0.9711 - val_loss: 0.2554 - val_accuracy: 0.9608\n",
      "Epoch 8/30\n",
      "1052/1052 [==============================] - 6s 6ms/step - loss: 0.1636 - accuracy: 0.9740 - val_loss: 0.2367 - val_accuracy: 0.9626\n",
      "Epoch 9/30\n",
      "1052/1052 [==============================] - 5s 5ms/step - loss: 0.1456 - accuracy: 0.9759 - val_loss: 0.2250 - val_accuracy: 0.9650\n",
      "Epoch 10/30\n",
      "1052/1052 [==============================] - 6s 5ms/step - loss: 0.1323 - accuracy: 0.9778 - val_loss: 0.2181 - val_accuracy: 0.9632\n",
      "Epoch 11/30\n",
      "1052/1052 [==============================] - 7s 6ms/step - loss: 0.1216 - accuracy: 0.9791 - val_loss: 0.2132 - val_accuracy: 0.9654\n",
      "Epoch 12/30\n",
      "1052/1052 [==============================] - 6s 6ms/step - loss: 0.1125 - accuracy: 0.9807 - val_loss: 0.2060 - val_accuracy: 0.9662\n",
      "Epoch 13/30\n",
      "1052/1052 [==============================] - 5s 5ms/step - loss: 0.1053 - accuracy: 0.9814 - val_loss: 0.1994 - val_accuracy: 0.9652\n",
      "Epoch 14/30\n",
      "1052/1052 [==============================] - 6s 6ms/step - loss: 0.0986 - accuracy: 0.9825 - val_loss: 0.1954 - val_accuracy: 0.9662\n",
      "Epoch 15/30\n",
      "1052/1052 [==============================] - 6s 6ms/step - loss: 0.0930 - accuracy: 0.9831 - val_loss: 0.1874 - val_accuracy: 0.9678\n",
      "Epoch 16/30\n",
      "1052/1052 [==============================] - 6s 6ms/step - loss: 0.0882 - accuracy: 0.9837 - val_loss: 0.1919 - val_accuracy: 0.9652\n",
      "Epoch 17/30\n",
      "1052/1052 [==============================] - 5s 5ms/step - loss: 0.0838 - accuracy: 0.9849 - val_loss: 0.1826 - val_accuracy: 0.9678\n",
      "Epoch 18/30\n",
      "1052/1052 [==============================] - 6s 5ms/step - loss: 0.0795 - accuracy: 0.9855 - val_loss: 0.1814 - val_accuracy: 0.9682\n",
      "Epoch 19/30\n",
      "1052/1052 [==============================] - 6s 5ms/step - loss: 0.0758 - accuracy: 0.9864 - val_loss: 0.1795 - val_accuracy: 0.9676\n",
      "Epoch 20/30\n",
      "1052/1052 [==============================] - 6s 5ms/step - loss: 0.0723 - accuracy: 0.9875 - val_loss: 0.1704 - val_accuracy: 0.9694\n",
      "Epoch 21/30\n",
      "1052/1052 [==============================] - 6s 6ms/step - loss: 0.0694 - accuracy: 0.9875 - val_loss: 0.1706 - val_accuracy: 0.9688\n",
      "Epoch 22/30\n",
      "1052/1052 [==============================] - 10s 9ms/step - loss: 0.0667 - accuracy: 0.9881 - val_loss: 0.1646 - val_accuracy: 0.9684\n",
      "Epoch 23/30\n",
      "1052/1052 [==============================] - 6s 5ms/step - loss: 0.0638 - accuracy: 0.9887 - val_loss: 0.1648 - val_accuracy: 0.9688\n",
      "Epoch 24/30\n",
      "1052/1052 [==============================] - 6s 5ms/step - loss: 0.0613 - accuracy: 0.9889 - val_loss: 0.1604 - val_accuracy: 0.9706\n",
      "Epoch 25/30\n",
      "1052/1052 [==============================] - 6s 5ms/step - loss: 0.0589 - accuracy: 0.9894 - val_loss: 0.1541 - val_accuracy: 0.9728\n",
      "Epoch 26/30\n",
      "1052/1052 [==============================] - 6s 5ms/step - loss: 0.0569 - accuracy: 0.9898 - val_loss: 0.1549 - val_accuracy: 0.9726\n",
      "Epoch 27/30\n",
      "1052/1052 [==============================] - 5s 5ms/step - loss: 0.0547 - accuracy: 0.9905 - val_loss: 0.1611 - val_accuracy: 0.9692\n",
      "Epoch 28/30\n",
      "1052/1052 [==============================] - 5s 5ms/step - loss: 0.0530 - accuracy: 0.9908 - val_loss: 0.1466 - val_accuracy: 0.9710\n",
      "Epoch 29/30\n",
      "1052/1052 [==============================] - 5s 5ms/step - loss: 0.0507 - accuracy: 0.9913 - val_loss: 0.1431 - val_accuracy: 0.9730\n",
      "Epoch 30/30\n",
      "1052/1052 [==============================] - 5s 5ms/step - loss: 0.0492 - accuracy: 0.9919 - val_loss: 0.1393 - val_accuracy: 0.9726\n"
     ]
    }
   ],
   "source": [
    "import tensorflow as tf\n",
    "from tensorflow import keras\n",
    "\n",
    "X_train_full = char_array\n",
    "y_train_full = text_array\n",
    "\n",
    "X_valid, X_train = X_train_full[:5000] / 255.0, X_train_full[5000:] / 255.0\n",
    "y_valid, y_train = y_train_full[:5000], y_train_full[5000:]\n",
    "\n",
    "output_len = 0x7F - 0x21\n",
    "\n",
    "model = keras.models.Sequential([\n",
    "    keras.layers.Flatten(input_shape=[v_max_size, h_max_size]),\n",
    "    keras.layers.Dense(300, activation=\"relu\"),\n",
    "    keras.layers.Dense(100, activation=\"relu\"),\n",
    "    keras.layers.Dense(output_len, activation=\"softmax\")\n",
    "])\n",
    "\n",
    "# model.summary()\n",
    "\n",
    "# model.compile(\n",
    "#     loss=keras.losses.sparse_categorical_crossentropy,\n",
    "#     optimizer=keras.optimizers.SGD(),\n",
    "#     metrics=[keras.metrics.sparse_categorical_accuracy],\n",
    "# )\n",
    "\n",
    "model.compile(loss=\"sparse_categorical_crossentropy\", optimizer=\"sgd\", metrics=[\"accuracy\"])\n",
    "\n",
    "history = model.fit(X_train, y_train, epochs=30, validation_data=(X_valid, y_valid))\n"
   ]
  },
  {
   "cell_type": "code",
   "execution_count": 10,
   "metadata": {},
   "outputs": [
    {
     "data": {
      "image/png": "[encoded data removed]",
      "text/plain": [
       "<Figure size 800x500 with 1 Axes>"
      ]
     },
     "metadata": {},
     "output_type": "display_data"
    }
   ],
   "source": [
    "import pandas as pd\n",
    "\n",
    "pd.DataFrame(history.history).plot(figsize=(8,5))\n",
    "plt.grid(True)\n",
    "plt.gca().set_ylim(0, 1)\n",
    "plt.show()"
   ]
  },
  {
   "cell_type": "code",
   "execution_count": null,
   "metadata": {},
   "outputs": [],
   "source": [
    "# 헷갈릴 글자 대상들\n",
    "# 0 Γ\n",
    "# 8 Δ\n",
    "# 5 Σ\n",
    "# $ -> § or 직접 폰트 수정\n",
    "#  (공백) Ч\n",
    "# ` §\n",
    "\n",
    "# 절대로 헷갈리지 않을 만한 문자들\n",
    "# 그리스어\n",
    "# Γ Δ Ξ Σ"
   ]
  }
 ],
 "metadata": {
  "kernelspec": {
   "display_name": "Python 3.10.4 ('.venv': venv)",
   "language": "python",
   "name": "python3"
  },
  "language_info": {
   "codemirror_mode": {
    "name": "ipython",
    "version": 3
   },
   "file_extension": ".py",
   "mimetype": "text/x-python",
   "name": "python",
   "nbconvert_exporter": "python",
   "pygments_lexer": "ipython3",
   "version": "3.10.4"
  },
  "orig_nbformat": 4,
  "vscode": {
   "interpreter": {
    "hash": "be683a387f613599acfa5f2904ea86e105e419b0abf42dde19e0d0b9b1440bd7"
   }
  }
 },
 "nbformat": 4,
 "nbformat_minor": 2
}
